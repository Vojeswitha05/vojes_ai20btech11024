{
  "nbformat": 4,
  "nbformat_minor": 0,
  "metadata": {
    "colab": {
      "name": "ai20btech11002-ai20btech11024.ipynb",
      "provenance": []
    },
    "kernelspec": {
      "name": "python3",
      "display_name": "Python 3"
    },
    "language_info": {
      "name": "python"
    }
  },
  "cells": [
    {
      "cell_type": "markdown",
      "metadata": {
        "id": "F9iN40arySoj"
      },
      "source": [
        "Kaggle Id = AI20BTECH11002-AI20BTECH11024\n"
      ]
    },
    {
      "cell_type": "code",
      "metadata": {
        "id": "12rGH6WjWrKz"
      },
      "source": [
        "! pip install -q kaggle"
      ],
      "execution_count": null,
      "outputs": []
    },
    {
      "cell_type": "code",
      "metadata": {
        "id": "rfiW0glJXLj3",
        "colab": {
          "resources": {
            "http://localhost:8080/nbextensions/google.colab/files.js": {
              "data": "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",
              "ok": true,
              "headers": [
                [
                  "content-type",
                  "application/javascript"
                ]
              ],
              "status": 200,
              "status_text": ""
            }
          },
          "base_uri": "https://localhost:8080/",
          "height": 90
        },
        "outputId": "651d7370-7a91-4a4e-eab1-499c329da4d4"
      },
      "source": [
        "from google.colab import files\n",
        "\n",
        "files.upload()"
      ],
      "execution_count": null,
      "outputs": [
        {
          "output_type": "display_data",
          "data": {
            "text/html": [
              "\n",
              "     <input type=\"file\" id=\"files-3533ef9d-fea0-4e8d-bc9d-2e7cf22ded2d\" name=\"files[]\" multiple disabled\n",
              "        style=\"border:none\" />\n",
              "     <output id=\"result-3533ef9d-fea0-4e8d-bc9d-2e7cf22ded2d\">\n",
              "      Upload widget is only available when the cell has been executed in the\n",
              "      current browser session. Please rerun this cell to enable.\n",
              "      </output>\n",
              "      <script src=\"/nbextensions/google.colab/files.js\"></script> "
            ],
            "text/plain": [
              "<IPython.core.display.HTML object>"
            ]
          },
          "metadata": {}
        },
        {
          "output_type": "stream",
          "name": "stdout",
          "text": [
            "Saving kaggle.json to kaggle.json\n"
          ]
        },
        {
          "output_type": "execute_result",
          "data": {
            "text/plain": [
              "{'kaggle.json': b'{\"username\":\"vojeswithag\",\"key\":\"3d555cd8422578447e103d4121e748bc\"}'}"
            ]
          },
          "metadata": {},
          "execution_count": 2
        }
      ]
    },
    {
      "cell_type": "code",
      "metadata": {
        "id": "BCVCzZkFcBel"
      },
      "source": [
        " ! mkdir ~/.kaggle"
      ],
      "execution_count": null,
      "outputs": []
    },
    {
      "cell_type": "code",
      "metadata": {
        "id": "tWCifPiz6uWi"
      },
      "source": [
        "! cp kaggle.json ~/.kaggle/"
      ],
      "execution_count": null,
      "outputs": []
    },
    {
      "cell_type": "code",
      "metadata": {
        "id": "cDg1Oa3o6w-K"
      },
      "source": [
        "! chmod 600 ~/.kaggle/kaggle.json"
      ],
      "execution_count": null,
      "outputs": []
    },
    {
      "cell_type": "code",
      "metadata": {
        "colab": {
          "base_uri": "https://localhost:8080/"
        },
        "id": "s1lOggAx6z2t",
        "outputId": "c407b4a2-48e2-4207-dbe8-246dc5b1b84e"
      },
      "source": [
        "! kaggle competitions download -c 'Foml-2021'"
      ],
      "execution_count": null,
      "outputs": [
        {
          "output_type": "stream",
          "name": "stdout",
          "text": [
            "Warning: Looks like you're using an outdated API Version, please consider updating (server 1.5.12 / client 1.5.4)\n",
            "Downloading train.csv.zip to /content\n",
            "  0% 0.00/4.80M [00:00<?, ?B/s]\n",
            "100% 4.80M/4.80M [00:00<00:00, 44.2MB/s]\n",
            "Downloading test.csv.zip to /content\n",
            "  0% 0.00/6.97M [00:00<?, ?B/s]\n",
            "100% 6.97M/6.97M [00:00<00:00, 64.0MB/s]\n"
          ]
        }
      ]
    },
    {
      "cell_type": "markdown",
      "metadata": {
        "id": "RLcKb-K1lfb2"
      },
      "source": [
        "Installing the dataset from kaggle"
      ]
    },
    {
      "cell_type": "code",
      "metadata": {
        "colab": {
          "base_uri": "https://localhost:8080/"
        },
        "id": "EZYGnVKg62_2",
        "outputId": "2cda6fda-3675-4aa9-b964-f4656cc16667"
      },
      "source": [
        "! mkdir train\n",
        "! unzip train.csv.zip -d train"
      ],
      "execution_count": null,
      "outputs": [
        {
          "output_type": "stream",
          "name": "stdout",
          "text": [
            "Archive:  train.csv.zip\n",
            "  inflating: train/train.csv         \n"
          ]
        }
      ]
    },
    {
      "cell_type": "code",
      "metadata": {
        "colab": {
          "base_uri": "https://localhost:8080/"
        },
        "id": "QjHet4yi6-IQ",
        "outputId": "9cfdeeeb-d29e-4e9d-d53c-4f4526df040c"
      },
      "source": [
        "! mkdir test\n",
        "! unzip test.csv.zip -d test"
      ],
      "execution_count": null,
      "outputs": [
        {
          "output_type": "stream",
          "name": "stdout",
          "text": [
            "Archive:  test.csv.zip\n",
            "  inflating: test/test.csv           \n"
          ]
        }
      ]
    },
    {
      "cell_type": "markdown",
      "metadata": {
        "id": "DckZMNOilp80"
      },
      "source": [
        "Installing the dataset from kaggle, unzipping the files"
      ]
    },
    {
      "cell_type": "code",
      "metadata": {
        "id": "W-iNwuT97DlP"
      },
      "source": [
        "import pandas as pd\n",
        "import numpy as np"
      ],
      "execution_count": null,
      "outputs": []
    },
    {
      "cell_type": "code",
      "metadata": {
        "colab": {
          "base_uri": "https://localhost:8080/"
        },
        "id": "XPs2d7127FzU",
        "outputId": "4ecc0da6-6fd8-4aed-d202-0728fdc1062b"
      },
      "source": [
        "df_train = pd.read_csv('/content/train/train.csv') \n",
        "df_test = pd.read_csv('/content/test/test.csv')"
      ],
      "execution_count": null,
      "outputs": [
        {
          "output_type": "stream",
          "name": "stderr",
          "text": [
            "/usr/local/lib/python3.7/dist-packages/IPython/core/interactiveshell.py:2718: DtypeWarning: Columns (2) have mixed types.Specify dtype option on import or set low_memory=False.\n",
            "  interactivity=interactivity, compiler=compiler, result=result)\n"
          ]
        }
      ]
    },
    {
      "cell_type": "markdown",
      "metadata": {
        "id": "CP6DXfzilyze"
      },
      "source": [
        "Reading the files into dataframes\n"
      ]
    },
    {
      "cell_type": "code",
      "metadata": {
        "colab": {
          "base_uri": "https://localhost:8080/",
          "height": 475
        },
        "id": "IM06RXzh7NdJ",
        "outputId": "5a5589ad-0ef8-4499-a657-08954df060a4"
      },
      "source": [
        "df_train.head()"
      ],
      "execution_count": null,
      "outputs": [
        {
          "output_type": "execute_result",
          "data": {
            "text/html": [
              "<div>\n",
              "<style scoped>\n",
              "    .dataframe tbody tr th:only-of-type {\n",
              "        vertical-align: middle;\n",
              "    }\n",
              "\n",
              "    .dataframe tbody tr th {\n",
              "        vertical-align: top;\n",
              "    }\n",
              "\n",
              "    .dataframe thead th {\n",
              "        text-align: right;\n",
              "    }\n",
              "</style>\n",
              "<table border=\"1\" class=\"dataframe\">\n",
              "  <thead>\n",
              "    <tr style=\"text-align: right;\">\n",
              "      <th></th>\n",
              "      <th>Report Number</th>\n",
              "      <th>Local Case Number</th>\n",
              "      <th>Agency Name</th>\n",
              "      <th>ACRS Report Type</th>\n",
              "      <th>Crash Date/Time</th>\n",
              "      <th>Route Type</th>\n",
              "      <th>Road Name</th>\n",
              "      <th>Cross-Street Type</th>\n",
              "      <th>Cross-Street Name</th>\n",
              "      <th>Off-Road Description</th>\n",
              "      <th>Municipality</th>\n",
              "      <th>Related Non-Motorist</th>\n",
              "      <th>Collision Type</th>\n",
              "      <th>Weather</th>\n",
              "      <th>Surface Condition</th>\n",
              "      <th>Light</th>\n",
              "      <th>Traffic Control</th>\n",
              "      <th>Driver Substance Abuse</th>\n",
              "      <th>Non-Motorist Substance Abuse</th>\n",
              "      <th>Person ID</th>\n",
              "      <th>Injury Severity</th>\n",
              "      <th>Circumstance</th>\n",
              "      <th>Drivers License State</th>\n",
              "      <th>Vehicle ID</th>\n",
              "      <th>Vehicle Damage Extent</th>\n",
              "      <th>Vehicle First Impact Location</th>\n",
              "      <th>Vehicle Second Impact Location</th>\n",
              "      <th>Vehicle Body Type</th>\n",
              "      <th>Vehicle Movement</th>\n",
              "      <th>Vehicle Continuing Dir</th>\n",
              "      <th>Vehicle Going Dir</th>\n",
              "      <th>Speed Limit</th>\n",
              "      <th>Driverless Vehicle</th>\n",
              "      <th>Parked Vehicle</th>\n",
              "      <th>Vehicle Year</th>\n",
              "      <th>Vehicle Make</th>\n",
              "      <th>Vehicle Model</th>\n",
              "      <th>Equipment Problems</th>\n",
              "      <th>Latitude</th>\n",
              "      <th>Longitude</th>\n",
              "      <th>Location</th>\n",
              "      <th>Fault</th>\n",
              "    </tr>\n",
              "  </thead>\n",
              "  <tbody>\n",
              "    <tr>\n",
              "      <th>0</th>\n",
              "      <td>MP060D</td>\n",
              "      <td>10196</td>\n",
              "      <td>Montgomery County Police</td>\n",
              "      <td>Injury Crash</td>\n",
              "      <td>06/05/2017 04:27:00 PM</td>\n",
              "      <td>Maryland (State)</td>\n",
              "      <td>OLD HUNDRED RD</td>\n",
              "      <td>County</td>\n",
              "      <td>THURSTON RD</td>\n",
              "      <td>12305 SHOREFIELD RD</td>\n",
              "      <td>NaN</td>\n",
              "      <td>NaN</td>\n",
              "      <td>SINGLE VEHICLE</td>\n",
              "      <td>CLEAR</td>\n",
              "      <td>WET</td>\n",
              "      <td>DAYLIGHT</td>\n",
              "      <td>NO CONTROLS</td>\n",
              "      <td>NONE DETECTED</td>\n",
              "      <td>NaN</td>\n",
              "      <td>466D8B-AC8C7</td>\n",
              "      <td>SUSPECTED MINOR INJURY</td>\n",
              "      <td>N/A, WET</td>\n",
              "      <td>MD</td>\n",
              "      <td>7C2FEC-727F4</td>\n",
              "      <td>DESTROYED</td>\n",
              "      <td>TWELVE OCLOCK</td>\n",
              "      <td>TWELVE OCLOCK</td>\n",
              "      <td>PICKUP TRUCK</td>\n",
              "      <td>MOVING CONSTANT SPEED</td>\n",
              "      <td>South</td>\n",
              "      <td>Unknown</td>\n",
              "      <td>40</td>\n",
              "      <td>No</td>\n",
              "      <td>No</td>\n",
              "      <td>2005</td>\n",
              "      <td>GMC</td>\n",
              "      <td>TRUCK</td>\n",
              "      <td>NO MISUSE</td>\n",
              "      <td>39.263378</td>\n",
              "      <td>-77.344203</td>\n",
              "      <td>3.6383 7.4233</td>\n",
              "      <td>1</td>\n",
              "    </tr>\n",
              "    <tr>\n",
              "      <th>1</th>\n",
              "      <td>MP000X</td>\n",
              "      <td>20080</td>\n",
              "      <td>Montgomery County Police</td>\n",
              "      <td>Injury Crash</td>\n",
              "      <td>02/22/2020 10:00:00 AM</td>\n",
              "      <td>County</td>\n",
              "      <td>JANET RD</td>\n",
              "      <td>County</td>\n",
              "      <td>FLACK ST</td>\n",
              "      <td>NaN</td>\n",
              "      <td>NaN</td>\n",
              "      <td>NaN</td>\n",
              "      <td>STRAIGHT MOVEMENT ANGLE</td>\n",
              "      <td>CLEAR</td>\n",
              "      <td>DRY</td>\n",
              "      <td>DAYLIGHT</td>\n",
              "      <td>STOP SIGN</td>\n",
              "      <td>NONE DETECTED</td>\n",
              "      <td>NaN</td>\n",
              "      <td>4028E4-C5384</td>\n",
              "      <td>NO APPARENT INJURY</td>\n",
              "      <td>BACKUP DUE TO REGULAR CONGESTION, SLEET, HAIL,...</td>\n",
              "      <td>MD</td>\n",
              "      <td>67644F-64EF8</td>\n",
              "      <td>DISABLING</td>\n",
              "      <td>TWELVE OCLOCK</td>\n",
              "      <td>TWELVE OCLOCK</td>\n",
              "      <td>PASSENGER CAR</td>\n",
              "      <td>ACCELERATING</td>\n",
              "      <td>South</td>\n",
              "      <td>South</td>\n",
              "      <td>25</td>\n",
              "      <td>No</td>\n",
              "      <td>Yes</td>\n",
              "      <td>2018</td>\n",
              "      <td>FORD</td>\n",
              "      <td>FIESTA</td>\n",
              "      <td>NO MISUSE</td>\n",
              "      <td>39.068913</td>\n",
              "      <td>-77.063227</td>\n",
              "      <td>3.0862 7.324</td>\n",
              "      <td>1</td>\n",
              "    </tr>\n",
              "    <tr>\n",
              "      <th>2</th>\n",
              "      <td>MP070N</td>\n",
              "      <td>10103</td>\n",
              "      <td>Montgomery County Police</td>\n",
              "      <td>Property Damage Crash</td>\n",
              "      <td>06/11/2017 08:21:00 AM</td>\n",
              "      <td>Maryland (State)</td>\n",
              "      <td>COLESVILLE RD</td>\n",
              "      <td>Maryland (State)</td>\n",
              "      <td>STRUC #15082</td>\n",
              "      <td>NaN</td>\n",
              "      <td>NaN</td>\n",
              "      <td>NaN</td>\n",
              "      <td>SAME DIRECTION RIGHT TURN</td>\n",
              "      <td>CLEAR</td>\n",
              "      <td>DRY</td>\n",
              "      <td>UNKNOWN</td>\n",
              "      <td>OTHER</td>\n",
              "      <td>NaN</td>\n",
              "      <td>NaN</td>\n",
              "      <td>889DBD-D57FF</td>\n",
              "      <td>NO APPARENT INJURY</td>\n",
              "      <td>NaN</td>\n",
              "      <td>DC</td>\n",
              "      <td>30F7A9-92C98</td>\n",
              "      <td>SUPERFICIAL</td>\n",
              "      <td>SIX OCLOCK</td>\n",
              "      <td>SIX OCLOCK</td>\n",
              "      <td>TRANSIT BUS</td>\n",
              "      <td>PARKING</td>\n",
              "      <td>West</td>\n",
              "      <td>West</td>\n",
              "      <td>35</td>\n",
              "      <td>No</td>\n",
              "      <td>No</td>\n",
              "      <td>2016</td>\n",
              "      <td>NEW FLYER</td>\n",
              "      <td>TBU</td>\n",
              "      <td>NO MISUSE</td>\n",
              "      <td>38.993578</td>\n",
              "      <td>-77.032718</td>\n",
              "      <td>3.9583 7.3783</td>\n",
              "      <td>0</td>\n",
              "    </tr>\n",
              "    <tr>\n",
              "      <th>3</th>\n",
              "      <td>MP130Y</td>\n",
              "      <td>10208</td>\n",
              "      <td>Montgomery County Police</td>\n",
              "      <td>Injury Crash</td>\n",
              "      <td>05/10/2019 07:30:00 AM</td>\n",
              "      <td>County</td>\n",
              "      <td>PARKLAND DR</td>\n",
              "      <td>County</td>\n",
              "      <td>FRANKFORT DR</td>\n",
              "      <td>NaN</td>\n",
              "      <td>NaN</td>\n",
              "      <td>NaN</td>\n",
              "      <td>OTHER</td>\n",
              "      <td>CLOUDY</td>\n",
              "      <td>DRY</td>\n",
              "      <td>DAYLIGHT</td>\n",
              "      <td>NO CONTROLS</td>\n",
              "      <td>NONE DETECTED</td>\n",
              "      <td>NaN</td>\n",
              "      <td>77155D-96AA7</td>\n",
              "      <td>POSSIBLE INJURY</td>\n",
              "      <td>NaN</td>\n",
              "      <td>MD</td>\n",
              "      <td>0F0C58-8E98F</td>\n",
              "      <td>FUNCTIONAL</td>\n",
              "      <td>TWELVE OCLOCK</td>\n",
              "      <td>TWO OCLOCK</td>\n",
              "      <td>PASSENGER CAR</td>\n",
              "      <td>MOVING CONSTANT SPEED</td>\n",
              "      <td>South</td>\n",
              "      <td>South</td>\n",
              "      <td>25</td>\n",
              "      <td>No</td>\n",
              "      <td>No</td>\n",
              "      <td>2001</td>\n",
              "      <td>CHEV</td>\n",
              "      <td>SUBURBAN</td>\n",
              "      <td>OTHER</td>\n",
              "      <td>39.083480</td>\n",
              "      <td>-77.086933</td>\n",
              "      <td>3.84,-70633</td>\n",
              "      <td>1</td>\n",
              "    </tr>\n",
              "    <tr>\n",
              "      <th>4</th>\n",
              "      <td>MP770Y</td>\n",
              "      <td>1091</td>\n",
              "      <td>Montgomery County Police</td>\n",
              "      <td>Injury Crash</td>\n",
              "      <td>08/02/2016 05:00:00 PM</td>\n",
              "      <td>Maryland (State)</td>\n",
              "      <td>OLD GEORGETOWN RD</td>\n",
              "      <td>County</td>\n",
              "      <td>MCKINLEY ST</td>\n",
              "      <td>NaN</td>\n",
              "      <td>NaN</td>\n",
              "      <td>NaN</td>\n",
              "      <td>SAME DIR REAR END</td>\n",
              "      <td>CLEAR</td>\n",
              "      <td>DRY</td>\n",
              "      <td>DAYLIGHT</td>\n",
              "      <td>TRAFFIC SIGNAL</td>\n",
              "      <td>NONE DETECTED</td>\n",
              "      <td>MEDICATION PRESENT</td>\n",
              "      <td>5E180B-42B0C</td>\n",
              "      <td>SUSPECTED MINOR INJURY</td>\n",
              "      <td>NaN</td>\n",
              "      <td>MD</td>\n",
              "      <td>4397C0-AEE83</td>\n",
              "      <td>DISABLING</td>\n",
              "      <td>SIX OCLOCK</td>\n",
              "      <td>SIX OCLOCK</td>\n",
              "      <td>PASSENGER CAR</td>\n",
              "      <td>SLOWING OR STOPPING</td>\n",
              "      <td>South</td>\n",
              "      <td>South</td>\n",
              "      <td>40</td>\n",
              "      <td>No</td>\n",
              "      <td>No</td>\n",
              "      <td>2013</td>\n",
              "      <td>KIA</td>\n",
              "      <td>RIO</td>\n",
              "      <td>NO MISUSE</td>\n",
              "      <td>38.996942</td>\n",
              "      <td>-77.109168</td>\n",
              "      <td>3.9917 7.0183</td>\n",
              "      <td>0</td>\n",
              "    </tr>\n",
              "  </tbody>\n",
              "</table>\n",
              "</div>"
            ],
            "text/plain": [
              "  Report Number Local Case Number  ...       Location Fault\n",
              "0        MP060D             10196  ...  3.6383 7.4233     1\n",
              "1        MP000X             20080  ...   3.0862 7.324     1\n",
              "2        MP070N             10103  ...  3.9583 7.3783     0\n",
              "3        MP130Y             10208  ...    3.84,-70633     1\n",
              "4        MP770Y              1091  ...  3.9917 7.0183     0\n",
              "\n",
              "[5 rows x 42 columns]"
            ]
          },
          "metadata": {},
          "execution_count": 11
        }
      ]
    },
    {
      "cell_type": "code",
      "metadata": {
        "colab": {
          "base_uri": "https://localhost:8080/",
          "height": 492
        },
        "id": "r-523pbs7PH2",
        "outputId": "f352659f-ae1a-4719-bc97-bd41f5d5398f"
      },
      "source": [
        "df_test.head()"
      ],
      "execution_count": null,
      "outputs": [
        {
          "output_type": "execute_result",
          "data": {
            "text/html": [
              "<div>\n",
              "<style scoped>\n",
              "    .dataframe tbody tr th:only-of-type {\n",
              "        vertical-align: middle;\n",
              "    }\n",
              "\n",
              "    .dataframe tbody tr th {\n",
              "        vertical-align: top;\n",
              "    }\n",
              "\n",
              "    .dataframe thead th {\n",
              "        text-align: right;\n",
              "    }\n",
              "</style>\n",
              "<table border=\"1\" class=\"dataframe\">\n",
              "  <thead>\n",
              "    <tr style=\"text-align: right;\">\n",
              "      <th></th>\n",
              "      <th>Id</th>\n",
              "      <th>Report Number</th>\n",
              "      <th>Local Case Number</th>\n",
              "      <th>Agency Name</th>\n",
              "      <th>ACRS Report Type</th>\n",
              "      <th>Crash Date/Time</th>\n",
              "      <th>Route Type</th>\n",
              "      <th>Road Name</th>\n",
              "      <th>Cross-Street Type</th>\n",
              "      <th>Cross-Street Name</th>\n",
              "      <th>Off-Road Description</th>\n",
              "      <th>Municipality</th>\n",
              "      <th>Related Non-Motorist</th>\n",
              "      <th>Collision Type</th>\n",
              "      <th>Weather</th>\n",
              "      <th>Surface Condition</th>\n",
              "      <th>Light</th>\n",
              "      <th>Traffic Control</th>\n",
              "      <th>Driver Substance Abuse</th>\n",
              "      <th>Non-Motorist Substance Abuse</th>\n",
              "      <th>Person ID</th>\n",
              "      <th>Injury Severity</th>\n",
              "      <th>Circumstance</th>\n",
              "      <th>Drivers License State</th>\n",
              "      <th>Vehicle ID</th>\n",
              "      <th>Vehicle Damage Extent</th>\n",
              "      <th>Vehicle First Impact Location</th>\n",
              "      <th>Vehicle Second Impact Location</th>\n",
              "      <th>Vehicle Body Type</th>\n",
              "      <th>Vehicle Movement</th>\n",
              "      <th>Vehicle Continuing Dir</th>\n",
              "      <th>Vehicle Going Dir</th>\n",
              "      <th>Speed Limit</th>\n",
              "      <th>Driverless Vehicle</th>\n",
              "      <th>Parked Vehicle</th>\n",
              "      <th>Vehicle Year</th>\n",
              "      <th>Vehicle Make</th>\n",
              "      <th>Vehicle Model</th>\n",
              "      <th>Equipment Problems</th>\n",
              "      <th>Latitude</th>\n",
              "      <th>Longitude</th>\n",
              "      <th>Location</th>\n",
              "    </tr>\n",
              "  </thead>\n",
              "  <tbody>\n",
              "    <tr>\n",
              "      <th>0</th>\n",
              "      <td>0</td>\n",
              "      <td>MP810M</td>\n",
              "      <td>NaN</td>\n",
              "      <td>MONTGOMERY</td>\n",
              "      <td>Property Damage Crash</td>\n",
              "      <td>12/16/2015 05:42:00 PM</td>\n",
              "      <td>County</td>\n",
              "      <td>WHITTIER BLVD</td>\n",
              "      <td>Maryland (State)</td>\n",
              "      <td>WILSON LA</td>\n",
              "      <td>NaN</td>\n",
              "      <td>NaN</td>\n",
              "      <td>NaN</td>\n",
              "      <td>OTHER</td>\n",
              "      <td>CLEAR</td>\n",
              "      <td>DRY</td>\n",
              "      <td>DARK LIGHTS ON</td>\n",
              "      <td>TRAFFIC SIGNAL</td>\n",
              "      <td>ALCOHOL CONTRIBUTED</td>\n",
              "      <td>NaN</td>\n",
              "      <td>F05A35-C3C98</td>\n",
              "      <td>NO APPARENT INJURY</td>\n",
              "      <td>NaN</td>\n",
              "      <td>MD</td>\n",
              "      <td>DA635F-C3055</td>\n",
              "      <td>FUNCTIONAL</td>\n",
              "      <td>ELEVEN OCLOCK</td>\n",
              "      <td>ELEVEN OCLOCK</td>\n",
              "      <td>PASSENGER CAR</td>\n",
              "      <td>MAKING RIGHT TURN</td>\n",
              "      <td>North</td>\n",
              "      <td>North</td>\n",
              "      <td>25</td>\n",
              "      <td>No</td>\n",
              "      <td>No</td>\n",
              "      <td>2004</td>\n",
              "      <td>LEXUS</td>\n",
              "      <td>RX330</td>\n",
              "      <td>NO MISUSE</td>\n",
              "      <td>38.988440</td>\n",
              "      <td>-77.127668</td>\n",
              "      <td>3.84,-71763</td>\n",
              "    </tr>\n",
              "    <tr>\n",
              "      <th>1</th>\n",
              "      <td>1</td>\n",
              "      <td>MP2001</td>\n",
              "      <td>NaN</td>\n",
              "      <td>Montgomery County Police</td>\n",
              "      <td>Property Damage Crash</td>\n",
              "      <td>05/01/2016 07:25:00 PM</td>\n",
              "      <td>County</td>\n",
              "      <td>RAILROAD ST</td>\n",
              "      <td>Municipality</td>\n",
              "      <td>E DIAMOND AVE</td>\n",
              "      <td>NaN</td>\n",
              "      <td>GAITHERSBURG</td>\n",
              "      <td>NaN</td>\n",
              "      <td>SAME DIR REAR END</td>\n",
              "      <td>RAINING</td>\n",
              "      <td>WET</td>\n",
              "      <td>DAYLIGHT</td>\n",
              "      <td>TRAFFIC SIGNAL</td>\n",
              "      <td>NONE DETECTED</td>\n",
              "      <td>NaN</td>\n",
              "      <td>79C1D8-6A412</td>\n",
              "      <td>NO APPARENT INJURY</td>\n",
              "      <td>RAIN, SNOW, WET</td>\n",
              "      <td>MD</td>\n",
              "      <td>DBC8E9-FC340</td>\n",
              "      <td>SUPERFICIAL</td>\n",
              "      <td>SIX OCLOCK</td>\n",
              "      <td>SIX OCLOCK</td>\n",
              "      <td>PASSENGER CAR</td>\n",
              "      <td>STOPPED IN TRAFFIC LANE</td>\n",
              "      <td>South</td>\n",
              "      <td>West</td>\n",
              "      <td>25</td>\n",
              "      <td>No</td>\n",
              "      <td>No</td>\n",
              "      <td>2001</td>\n",
              "      <td>MITSUBISHI</td>\n",
              "      <td>MIRAGE</td>\n",
              "      <td>NO MISUSE</td>\n",
              "      <td>39.094075</td>\n",
              "      <td>-77.205783</td>\n",
              "      <td>3.905 7.0733</td>\n",
              "    </tr>\n",
              "    <tr>\n",
              "      <th>2</th>\n",
              "      <td>2</td>\n",
              "      <td>MP6404</td>\n",
              "      <td>10125</td>\n",
              "      <td>Montgomery County Police</td>\n",
              "      <td>Property Damage Crash</td>\n",
              "      <td>03/16/2018 02:30:00 PM</td>\n",
              "      <td>Maryland (State)</td>\n",
              "      <td>GEORGIA AVE</td>\n",
              "      <td>County</td>\n",
              "      <td>ARCOLA AVE</td>\n",
              "      <td>NaN</td>\n",
              "      <td>NaN</td>\n",
              "      <td>NaN</td>\n",
              "      <td>SAME DIRECTION SIDESWIPE</td>\n",
              "      <td>NaN</td>\n",
              "      <td>DRY</td>\n",
              "      <td>DAYLIGHT</td>\n",
              "      <td>TRAFFIC SIGNAL</td>\n",
              "      <td>NONE DETECTED</td>\n",
              "      <td>NaN</td>\n",
              "      <td>30EC44-418A7</td>\n",
              "      <td>NO APPARENT INJURY</td>\n",
              "      <td>NaN</td>\n",
              "      <td>MD</td>\n",
              "      <td>32DA16-845E9</td>\n",
              "      <td>NO DAMAGE</td>\n",
              "      <td>TWO OCLOCK</td>\n",
              "      <td>TWO OCLOCK</td>\n",
              "      <td>AMBULANCE/EMERGENCY</td>\n",
              "      <td>MOVING CONSTANT SPEED</td>\n",
              "      <td>North</td>\n",
              "      <td>North</td>\n",
              "      <td>35</td>\n",
              "      <td>No</td>\n",
              "      <td>No</td>\n",
              "      <td>2016</td>\n",
              "      <td>FRIEGHTLINER</td>\n",
              "      <td>AMBULANCE</td>\n",
              "      <td>NO MISUSE</td>\n",
              "      <td>39.047180</td>\n",
              "      <td>-77.052688</td>\n",
              "      <td>3.41,-70283</td>\n",
              "    </tr>\n",
              "    <tr>\n",
              "      <th>3</th>\n",
              "      <td>3</td>\n",
              "      <td>MP0405</td>\n",
              "      <td>10270</td>\n",
              "      <td>Montgomery County Police</td>\n",
              "      <td>Property Damage Crash</td>\n",
              "      <td>05/25/2018 05:00:00 PM</td>\n",
              "      <td>NaN</td>\n",
              "      <td>NaN</td>\n",
              "      <td>NaN</td>\n",
              "      <td>NaN</td>\n",
              "      <td>19600 FREDERICK RD, PAWN SHOP PARKING LOT</td>\n",
              "      <td>NaN</td>\n",
              "      <td>NaN</td>\n",
              "      <td>SAME DIRECTION SIDESWIPE</td>\n",
              "      <td>CLEAR</td>\n",
              "      <td>NaN</td>\n",
              "      <td>DAYLIGHT</td>\n",
              "      <td>NO CONTROLS</td>\n",
              "      <td>NaN</td>\n",
              "      <td>NaN</td>\n",
              "      <td>C7FA23-4267E</td>\n",
              "      <td>NO APPARENT INJURY</td>\n",
              "      <td>NaN</td>\n",
              "      <td>MD</td>\n",
              "      <td>4DC569-AB8EA</td>\n",
              "      <td>DISABLING</td>\n",
              "      <td>TWELVE OCLOCK</td>\n",
              "      <td>TWELVE OCLOCK</td>\n",
              "      <td>PASSENGER CAR</td>\n",
              "      <td>ACCELERATING</td>\n",
              "      <td>West</td>\n",
              "      <td>West</td>\n",
              "      <td>25</td>\n",
              "      <td>No</td>\n",
              "      <td>No</td>\n",
              "      <td>2004</td>\n",
              "      <td>FORD</td>\n",
              "      <td>CN</td>\n",
              "      <td>NaN</td>\n",
              "      <td>39.178007</td>\n",
              "      <td>-77.238475</td>\n",
              "      <td>3.7067 7.345</td>\n",
              "    </tr>\n",
              "    <tr>\n",
              "      <th>4</th>\n",
              "      <td>4</td>\n",
              "      <td>MP090D</td>\n",
              "      <td>10374</td>\n",
              "      <td>Montgomery County Police</td>\n",
              "      <td>Property Damage Crash</td>\n",
              "      <td>09/23/2017 05:40:00 PM</td>\n",
              "      <td>Interstate (State)</td>\n",
              "      <td>EISENHOWER MEMORIAL HWY</td>\n",
              "      <td>Maryland (State)</td>\n",
              "      <td>MONTROSE RD</td>\n",
              "      <td>NaN</td>\n",
              "      <td>NaN</td>\n",
              "      <td>NaN</td>\n",
              "      <td>OTHER</td>\n",
              "      <td>CLEAR</td>\n",
              "      <td>DRY</td>\n",
              "      <td>DAYLIGHT</td>\n",
              "      <td>NO CONTROLS</td>\n",
              "      <td>UNKNOWN</td>\n",
              "      <td>NaN</td>\n",
              "      <td>B6023B-A34FF</td>\n",
              "      <td>NO APPARENT INJURY</td>\n",
              "      <td>NaN</td>\n",
              "      <td>NaN</td>\n",
              "      <td>B3BD7B-487E4</td>\n",
              "      <td>SUPERFICIAL</td>\n",
              "      <td>NINE OCLOCK</td>\n",
              "      <td>NINE OCLOCK</td>\n",
              "      <td>MEDIUM/HEAVY TRUCKS 3 AXLES (OVER 10,000LBS (4...</td>\n",
              "      <td>CHANGING LANES</td>\n",
              "      <td>North</td>\n",
              "      <td>North</td>\n",
              "      <td>55</td>\n",
              "      <td>No</td>\n",
              "      <td>No</td>\n",
              "      <td>2008</td>\n",
              "      <td>UTIL</td>\n",
              "      <td>TL</td>\n",
              "      <td>UNKNOWN</td>\n",
              "      <td>39.056134</td>\n",
              "      <td>-77.154043</td>\n",
              "      <td>3.5143 7.5022</td>\n",
              "    </tr>\n",
              "  </tbody>\n",
              "</table>\n",
              "</div>"
            ],
            "text/plain": [
              "   Id Report Number Local Case Number  ...   Latitude  Longitude       Location\n",
              "0   0        MP810M               NaN  ...  38.988440 -77.127668    3.84,-71763\n",
              "1   1        MP2001               NaN  ...  39.094075 -77.205783   3.905 7.0733\n",
              "2   2        MP6404             10125  ...  39.047180 -77.052688    3.41,-70283\n",
              "3   3        MP0405             10270  ...  39.178007 -77.238475   3.7067 7.345\n",
              "4   4        MP090D             10374  ...  39.056134 -77.154043  3.5143 7.5022\n",
              "\n",
              "[5 rows x 42 columns]"
            ]
          },
          "metadata": {},
          "execution_count": 12
        }
      ]
    },
    {
      "cell_type": "code",
      "metadata": {
        "id": "TL3fodYP7To_"
      },
      "source": [
        "Index = df_train.columns"
      ],
      "execution_count": null,
      "outputs": []
    },
    {
      "cell_type": "code",
      "metadata": {
        "id": "gAxif2MX7XGO"
      },
      "source": [
        "null_per = (df_train.isna().sum())*100/df_train.shape[0]\n",
        "#print(null_per.sort_values(ascending= False))"
      ],
      "execution_count": null,
      "outputs": []
    },
    {
      "cell_type": "code",
      "metadata": {
        "id": "339l45tU7b4E"
      },
      "source": [
        "for column in enumerate(null_per):\n",
        "    if (int(column[1])>70):\n",
        "        col_in = column[0]\n",
        "        df_train.drop(Index[col_in],axis='columns', inplace=True)\n",
        "        df_test.drop(Index[col_in],axis='columns', inplace=True)\n",
        "    elif (int(column[1]) != 0):\n",
        "        col_in = column[0]\n",
        "        df_train[Index[col_in]]  =  df_train[Index[col_in]].replace(np.NaN,df_train[Index[col_in]].mode()[0])  \n",
        "        df_test[Index[col_in]]  =  df_test[Index[col_in]].replace(np.NaN,df_test[Index[col_in]].mode()[0])  "
      ],
      "execution_count": null,
      "outputs": []
    },
    {
      "cell_type": "markdown",
      "metadata": {
        "id": "ceLf_s6jl5YU"
      },
      "source": [
        "Columns having Null percent greater than 70 are removed as they don't contribute in training the model efficiently.\n",
        "And the remaining null values are replaced by modes of corresponding column for columns of object type. There are no null values in columns of numeric type. "
      ]
    },
    {
      "cell_type": "code",
      "metadata": {
        "colab": {
          "base_uri": "https://localhost:8080/",
          "height": 458
        },
        "id": "O66aEciI7eer",
        "outputId": "92df87fd-b698-43df-aba4-37d7a6ab5c31"
      },
      "source": [
        "def convert_loc1(loc_1):\n",
        "    loc_11 = []\n",
        "    for x in enumerate(loc_1):\n",
        "        l = list(x)\n",
        "        if(l[1]<=0):\n",
        "          l[1] = -l[1]\n",
        "          for k in range(0,7):\n",
        "              if((l[1]//10) != 0):\n",
        "                 l[1] = l[1]/10  \n",
        "        loc_11.append(l[1])         \n",
        "    return loc_11      \n",
        "\n",
        "df_train['Location'] = df_train['Location'].replace('\\,','\\n',regex=True)\n",
        "df_train[['Location_0','Location_1']] = df_train.Location.str.split(expand=True).astype(float)\n",
        "df_train['Location_1'] = convert_loc1(df_train['Location_1'])\n",
        "df_train.head()"
      ],
      "execution_count": null,
      "outputs": [
        {
          "output_type": "execute_result",
          "data": {
            "text/html": [
              "<div>\n",
              "<style scoped>\n",
              "    .dataframe tbody tr th:only-of-type {\n",
              "        vertical-align: middle;\n",
              "    }\n",
              "\n",
              "    .dataframe tbody tr th {\n",
              "        vertical-align: top;\n",
              "    }\n",
              "\n",
              "    .dataframe thead th {\n",
              "        text-align: right;\n",
              "    }\n",
              "</style>\n",
              "<table border=\"1\" class=\"dataframe\">\n",
              "  <thead>\n",
              "    <tr style=\"text-align: right;\">\n",
              "      <th></th>\n",
              "      <th>Report Number</th>\n",
              "      <th>Local Case Number</th>\n",
              "      <th>Agency Name</th>\n",
              "      <th>ACRS Report Type</th>\n",
              "      <th>Crash Date/Time</th>\n",
              "      <th>Route Type</th>\n",
              "      <th>Road Name</th>\n",
              "      <th>Cross-Street Type</th>\n",
              "      <th>Cross-Street Name</th>\n",
              "      <th>Collision Type</th>\n",
              "      <th>Weather</th>\n",
              "      <th>Surface Condition</th>\n",
              "      <th>Light</th>\n",
              "      <th>Traffic Control</th>\n",
              "      <th>Driver Substance Abuse</th>\n",
              "      <th>Person ID</th>\n",
              "      <th>Injury Severity</th>\n",
              "      <th>Drivers License State</th>\n",
              "      <th>Vehicle ID</th>\n",
              "      <th>Vehicle Damage Extent</th>\n",
              "      <th>Vehicle First Impact Location</th>\n",
              "      <th>Vehicle Second Impact Location</th>\n",
              "      <th>Vehicle Body Type</th>\n",
              "      <th>Vehicle Movement</th>\n",
              "      <th>Vehicle Continuing Dir</th>\n",
              "      <th>Vehicle Going Dir</th>\n",
              "      <th>Speed Limit</th>\n",
              "      <th>Driverless Vehicle</th>\n",
              "      <th>Parked Vehicle</th>\n",
              "      <th>Vehicle Year</th>\n",
              "      <th>Vehicle Make</th>\n",
              "      <th>Vehicle Model</th>\n",
              "      <th>Equipment Problems</th>\n",
              "      <th>Latitude</th>\n",
              "      <th>Longitude</th>\n",
              "      <th>Location</th>\n",
              "      <th>Fault</th>\n",
              "      <th>Location_0</th>\n",
              "      <th>Location_1</th>\n",
              "    </tr>\n",
              "  </thead>\n",
              "  <tbody>\n",
              "    <tr>\n",
              "      <th>0</th>\n",
              "      <td>MP060D</td>\n",
              "      <td>10196</td>\n",
              "      <td>Montgomery County Police</td>\n",
              "      <td>Injury Crash</td>\n",
              "      <td>06/05/2017 04:27:00 PM</td>\n",
              "      <td>Maryland (State)</td>\n",
              "      <td>OLD HUNDRED RD</td>\n",
              "      <td>County</td>\n",
              "      <td>THURSTON RD</td>\n",
              "      <td>SINGLE VEHICLE</td>\n",
              "      <td>CLEAR</td>\n",
              "      <td>WET</td>\n",
              "      <td>DAYLIGHT</td>\n",
              "      <td>NO CONTROLS</td>\n",
              "      <td>NONE DETECTED</td>\n",
              "      <td>466D8B-AC8C7</td>\n",
              "      <td>SUSPECTED MINOR INJURY</td>\n",
              "      <td>MD</td>\n",
              "      <td>7C2FEC-727F4</td>\n",
              "      <td>DESTROYED</td>\n",
              "      <td>TWELVE OCLOCK</td>\n",
              "      <td>TWELVE OCLOCK</td>\n",
              "      <td>PICKUP TRUCK</td>\n",
              "      <td>MOVING CONSTANT SPEED</td>\n",
              "      <td>South</td>\n",
              "      <td>Unknown</td>\n",
              "      <td>40</td>\n",
              "      <td>No</td>\n",
              "      <td>No</td>\n",
              "      <td>2005</td>\n",
              "      <td>GMC</td>\n",
              "      <td>TRUCK</td>\n",
              "      <td>NO MISUSE</td>\n",
              "      <td>39.263378</td>\n",
              "      <td>-77.344203</td>\n",
              "      <td>3.6383 7.4233</td>\n",
              "      <td>1</td>\n",
              "      <td>3.6383</td>\n",
              "      <td>7.4233</td>\n",
              "    </tr>\n",
              "    <tr>\n",
              "      <th>1</th>\n",
              "      <td>MP000X</td>\n",
              "      <td>20080</td>\n",
              "      <td>Montgomery County Police</td>\n",
              "      <td>Injury Crash</td>\n",
              "      <td>02/22/2020 10:00:00 AM</td>\n",
              "      <td>County</td>\n",
              "      <td>JANET RD</td>\n",
              "      <td>County</td>\n",
              "      <td>FLACK ST</td>\n",
              "      <td>STRAIGHT MOVEMENT ANGLE</td>\n",
              "      <td>CLEAR</td>\n",
              "      <td>DRY</td>\n",
              "      <td>DAYLIGHT</td>\n",
              "      <td>STOP SIGN</td>\n",
              "      <td>NONE DETECTED</td>\n",
              "      <td>4028E4-C5384</td>\n",
              "      <td>NO APPARENT INJURY</td>\n",
              "      <td>MD</td>\n",
              "      <td>67644F-64EF8</td>\n",
              "      <td>DISABLING</td>\n",
              "      <td>TWELVE OCLOCK</td>\n",
              "      <td>TWELVE OCLOCK</td>\n",
              "      <td>PASSENGER CAR</td>\n",
              "      <td>ACCELERATING</td>\n",
              "      <td>South</td>\n",
              "      <td>South</td>\n",
              "      <td>25</td>\n",
              "      <td>No</td>\n",
              "      <td>Yes</td>\n",
              "      <td>2018</td>\n",
              "      <td>FORD</td>\n",
              "      <td>FIESTA</td>\n",
              "      <td>NO MISUSE</td>\n",
              "      <td>39.068913</td>\n",
              "      <td>-77.063227</td>\n",
              "      <td>3.0862 7.324</td>\n",
              "      <td>1</td>\n",
              "      <td>3.0862</td>\n",
              "      <td>7.3240</td>\n",
              "    </tr>\n",
              "    <tr>\n",
              "      <th>2</th>\n",
              "      <td>MP070N</td>\n",
              "      <td>10103</td>\n",
              "      <td>Montgomery County Police</td>\n",
              "      <td>Property Damage Crash</td>\n",
              "      <td>06/11/2017 08:21:00 AM</td>\n",
              "      <td>Maryland (State)</td>\n",
              "      <td>COLESVILLE RD</td>\n",
              "      <td>Maryland (State)</td>\n",
              "      <td>STRUC #15082</td>\n",
              "      <td>SAME DIRECTION RIGHT TURN</td>\n",
              "      <td>CLEAR</td>\n",
              "      <td>DRY</td>\n",
              "      <td>UNKNOWN</td>\n",
              "      <td>OTHER</td>\n",
              "      <td>NONE DETECTED</td>\n",
              "      <td>889DBD-D57FF</td>\n",
              "      <td>NO APPARENT INJURY</td>\n",
              "      <td>DC</td>\n",
              "      <td>30F7A9-92C98</td>\n",
              "      <td>SUPERFICIAL</td>\n",
              "      <td>SIX OCLOCK</td>\n",
              "      <td>SIX OCLOCK</td>\n",
              "      <td>TRANSIT BUS</td>\n",
              "      <td>PARKING</td>\n",
              "      <td>West</td>\n",
              "      <td>West</td>\n",
              "      <td>35</td>\n",
              "      <td>No</td>\n",
              "      <td>No</td>\n",
              "      <td>2016</td>\n",
              "      <td>NEW FLYER</td>\n",
              "      <td>TBU</td>\n",
              "      <td>NO MISUSE</td>\n",
              "      <td>38.993578</td>\n",
              "      <td>-77.032718</td>\n",
              "      <td>3.9583 7.3783</td>\n",
              "      <td>0</td>\n",
              "      <td>3.9583</td>\n",
              "      <td>7.3783</td>\n",
              "    </tr>\n",
              "    <tr>\n",
              "      <th>3</th>\n",
              "      <td>MP130Y</td>\n",
              "      <td>10208</td>\n",
              "      <td>Montgomery County Police</td>\n",
              "      <td>Injury Crash</td>\n",
              "      <td>05/10/2019 07:30:00 AM</td>\n",
              "      <td>County</td>\n",
              "      <td>PARKLAND DR</td>\n",
              "      <td>County</td>\n",
              "      <td>FRANKFORT DR</td>\n",
              "      <td>OTHER</td>\n",
              "      <td>CLOUDY</td>\n",
              "      <td>DRY</td>\n",
              "      <td>DAYLIGHT</td>\n",
              "      <td>NO CONTROLS</td>\n",
              "      <td>NONE DETECTED</td>\n",
              "      <td>77155D-96AA7</td>\n",
              "      <td>POSSIBLE INJURY</td>\n",
              "      <td>MD</td>\n",
              "      <td>0F0C58-8E98F</td>\n",
              "      <td>FUNCTIONAL</td>\n",
              "      <td>TWELVE OCLOCK</td>\n",
              "      <td>TWO OCLOCK</td>\n",
              "      <td>PASSENGER CAR</td>\n",
              "      <td>MOVING CONSTANT SPEED</td>\n",
              "      <td>South</td>\n",
              "      <td>South</td>\n",
              "      <td>25</td>\n",
              "      <td>No</td>\n",
              "      <td>No</td>\n",
              "      <td>2001</td>\n",
              "      <td>CHEV</td>\n",
              "      <td>SUBURBAN</td>\n",
              "      <td>OTHER</td>\n",
              "      <td>39.083480</td>\n",
              "      <td>-77.086933</td>\n",
              "      <td>3.84\\n-70633</td>\n",
              "      <td>1</td>\n",
              "      <td>3.8400</td>\n",
              "      <td>7.0633</td>\n",
              "    </tr>\n",
              "    <tr>\n",
              "      <th>4</th>\n",
              "      <td>MP770Y</td>\n",
              "      <td>1091</td>\n",
              "      <td>Montgomery County Police</td>\n",
              "      <td>Injury Crash</td>\n",
              "      <td>08/02/2016 05:00:00 PM</td>\n",
              "      <td>Maryland (State)</td>\n",
              "      <td>OLD GEORGETOWN RD</td>\n",
              "      <td>County</td>\n",
              "      <td>MCKINLEY ST</td>\n",
              "      <td>SAME DIR REAR END</td>\n",
              "      <td>CLEAR</td>\n",
              "      <td>DRY</td>\n",
              "      <td>DAYLIGHT</td>\n",
              "      <td>TRAFFIC SIGNAL</td>\n",
              "      <td>NONE DETECTED</td>\n",
              "      <td>5E180B-42B0C</td>\n",
              "      <td>SUSPECTED MINOR INJURY</td>\n",
              "      <td>MD</td>\n",
              "      <td>4397C0-AEE83</td>\n",
              "      <td>DISABLING</td>\n",
              "      <td>SIX OCLOCK</td>\n",
              "      <td>SIX OCLOCK</td>\n",
              "      <td>PASSENGER CAR</td>\n",
              "      <td>SLOWING OR STOPPING</td>\n",
              "      <td>South</td>\n",
              "      <td>South</td>\n",
              "      <td>40</td>\n",
              "      <td>No</td>\n",
              "      <td>No</td>\n",
              "      <td>2013</td>\n",
              "      <td>KIA</td>\n",
              "      <td>RIO</td>\n",
              "      <td>NO MISUSE</td>\n",
              "      <td>38.996942</td>\n",
              "      <td>-77.109168</td>\n",
              "      <td>3.9917 7.0183</td>\n",
              "      <td>0</td>\n",
              "      <td>3.9917</td>\n",
              "      <td>7.0183</td>\n",
              "    </tr>\n",
              "  </tbody>\n",
              "</table>\n",
              "</div>"
            ],
            "text/plain": [
              "  Report Number Local Case Number  ... Location_0 Location_1\n",
              "0        MP060D             10196  ...     3.6383     7.4233\n",
              "1        MP000X             20080  ...     3.0862     7.3240\n",
              "2        MP070N             10103  ...     3.9583     7.3783\n",
              "3        MP130Y             10208  ...     3.8400     7.0633\n",
              "4        MP770Y              1091  ...     3.9917     7.0183\n",
              "\n",
              "[5 rows x 39 columns]"
            ]
          },
          "metadata": {},
          "execution_count": 16
        }
      ]
    },
    {
      "cell_type": "code",
      "metadata": {
        "id": "DyUfo5fB7vTh"
      },
      "source": [
        "df_test['Location'] = df_test['Location'].replace('\\,','\\n',regex=True)\n",
        "df_test[['Location_0','Location_1']] = df_test.Location.str.split(expand=True).astype(float)\n",
        "df_test['Location_1'] = convert_loc1(df_test['Location_1'])"
      ],
      "execution_count": null,
      "outputs": []
    },
    {
      "cell_type": "markdown",
      "metadata": {
        "id": "xQD_uOy8mvYE"
      },
      "source": [
        "As the column 'Location' of object type has two values, that column is divided into two columns namely 'Location_0' and 'Location_1' of float type."
      ]
    },
    {
      "cell_type": "code",
      "metadata": {
        "id": "kiV55MIk70Y3"
      },
      "source": [
        "drop_columns = (['Report Number','Local Case Number','Crash Date/Time','Person ID','Vehicle ID','Location','Road Name','Cross-Street Name','Driverless Vehicle'])\n",
        "for col in drop_columns:\n",
        "    df_train.drop(col,axis='columns', inplace=True)\n",
        "    df_test.drop(col,axis='columns', inplace=True)"
      ],
      "execution_count": null,
      "outputs": []
    },
    {
      "cell_type": "markdown",
      "metadata": {
        "id": "lEdmfmjTocil"
      },
      "source": [
        "The columns which are found to be unnecessary are dropped from both train and test dataset using for loop. They were found to have large number of unique values which may result in less accuracy of the model."
      ]
    },
    {
      "cell_type": "code",
      "metadata": {
        "id": "2SyOlL4H78XV"
      },
      "source": [
        "Id = df_test.Id.values\n",
        "df_test.drop('Id',axis='columns', inplace=True)"
      ],
      "execution_count": null,
      "outputs": []
    },
    {
      "cell_type": "markdown",
      "metadata": {
        "id": "adiZE3rXovaq"
      },
      "source": [
        "The column 'Id' is dropped from test dataset.\n",
        "The Train dataset does not contain the column 'Id'."
      ]
    },
    {
      "cell_type": "code",
      "metadata": {
        "colab": {
          "base_uri": "https://localhost:8080/"
        },
        "id": "hLnA7sw-8BH-",
        "outputId": "4dfe902c-df46-4ca2-f9aa-5542e8d90448"
      },
      "source": [
        "df_data = pd.concat([df_train.drop(columns=['Fault']),df_test], ignore_index=True)\n",
        "object_columns = df_data.columns[df_data.dtypes == 'object']\n",
        "print(len(object_columns))\n",
        "print(object_columns)"
      ],
      "execution_count": null,
      "outputs": [
        {
          "output_type": "stream",
          "name": "stdout",
          "text": [
            "23\n",
            "Index(['Agency Name', 'ACRS Report Type', 'Route Type', 'Cross-Street Type',\n",
            "       'Collision Type', 'Weather', 'Surface Condition', 'Light',\n",
            "       'Traffic Control', 'Driver Substance Abuse', 'Injury Severity',\n",
            "       'Drivers License State', 'Vehicle Damage Extent',\n",
            "       'Vehicle First Impact Location', 'Vehicle Second Impact Location',\n",
            "       'Vehicle Body Type', 'Vehicle Movement', 'Vehicle Continuing Dir',\n",
            "       'Vehicle Going Dir', 'Parked Vehicle', 'Vehicle Make', 'Vehicle Model',\n",
            "       'Equipment Problems'],\n",
            "      dtype='object')\n"
          ]
        }
      ]
    },
    {
      "cell_type": "markdown",
      "metadata": {
        "id": "CLgGHykdo8Ei"
      },
      "source": [
        "Concatenating the test and train(dropping the 'fault' column) dataset so that we have all unique entries of columns that are used in label encoding of the object type data."
      ]
    },
    {
      "cell_type": "code",
      "metadata": {
        "id": "t43LjEUC8HVm"
      },
      "source": [
        "dict = {}\n",
        "for col in object_columns:\n",
        "      dict = {name:i for i,name in enumerate(df_data[col].unique())}\n",
        "      def encode_name(name):\n",
        "          return dict[name] \n",
        "      df_train[col] = df_train[col].apply(encode_name) \n",
        "      df_test[col] = df_test[col].apply(encode_name)  \n",
        "      dict = {}   "
      ],
      "execution_count": null,
      "outputs": []
    },
    {
      "cell_type": "markdown",
      "metadata": {
        "id": "vETDebbBpoOn"
      },
      "source": [
        "Label Encoding of the train and test dataset."
      ]
    },
    {
      "cell_type": "code",
      "metadata": {
        "colab": {
          "base_uri": "https://localhost:8080/"
        },
        "id": "ysSWwxh58KYd",
        "outputId": "750cb5c9-197c-4b4d-ab31-024906a15137"
      },
      "source": [
        "df_train.shape"
      ],
      "execution_count": null,
      "outputs": [
        {
          "output_type": "execute_result",
          "data": {
            "text/plain": [
              "(51490, 30)"
            ]
          },
          "metadata": {},
          "execution_count": 22
        }
      ]
    },
    {
      "cell_type": "code",
      "metadata": {
        "id": "iKUYkXNR8TMF"
      },
      "source": [
        "X_Train = df_train.drop(columns=['Fault']).to_numpy()\n",
        "y_Train = df_train['Fault'].to_numpy()\n",
        "X_Test = df_test.to_numpy()"
      ],
      "execution_count": null,
      "outputs": []
    },
    {
      "cell_type": "code",
      "metadata": {
        "id": "OMjXrRgt8doU"
      },
      "source": [
        "import xgboost\n",
        "GBD2 = xgboost.XGBClassifier(learning_rate=0.05, n_estimators=300, max_depth=10)\n",
        "GBD2.fit(X_Train,y_Train)\n",
        "Feat_imp = GBD2.feature_importances_"
      ],
      "execution_count": null,
      "outputs": []
    },
    {
      "cell_type": "markdown",
      "metadata": {
        "id": "Sm8IotGuqOgl"
      },
      "source": [
        "Evaluating the feature importance of all the features while using xgboost. This improved the final accuracy because many features causing noise are removed."
      ]
    },
    {
      "cell_type": "code",
      "metadata": {
        "colab": {
          "base_uri": "https://localhost:8080/"
        },
        "id": "g3gOOj5EHKd2",
        "outputId": "aa75450b-f8a2-485d-acdd-05bb3a263c82"
      },
      "source": [
        "Feat_imp.shape"
      ],
      "execution_count": null,
      "outputs": [
        {
          "output_type": "execute_result",
          "data": {
            "text/plain": [
              "(29,)"
            ]
          },
          "metadata": {},
          "execution_count": 25
        }
      ]
    },
    {
      "cell_type": "code",
      "metadata": {
        "colab": {
          "base_uri": "https://localhost:8080/"
        },
        "id": "Dr51PuWuHe0T",
        "outputId": "07c5b4d1-6e6d-4e85-9254-1ce5a7bc7390"
      },
      "source": [
        "print(Feat_imp)"
      ],
      "execution_count": null,
      "outputs": [
        {
          "output_type": "stream",
          "name": "stdout",
          "text": [
            "[0.01185377 0.01367265 0.01394407 0.01244714 0.1208243  0.01219583\n",
            " 0.01377092 0.01466665 0.02815003 0.10682338 0.0170874  0.01476726\n",
            " 0.01903745 0.20843855 0.04179024 0.01587502 0.09010056 0.01181724\n",
            " 0.01173414 0.0207024  0.07454512 0.01276347 0.01209661 0.01182923\n",
            " 0.03991255 0.01240441 0.01263176 0.01200683 0.01211097]\n"
          ]
        }
      ]
    },
    {
      "cell_type": "code",
      "metadata": {
        "colab": {
          "base_uri": "https://localhost:8080/"
        },
        "id": "Pb_dZkMSLjAk",
        "outputId": "2fcba4fd-9fd3-4512-a873-e2b361f35fa5"
      },
      "source": [
        "X_Train.shape"
      ],
      "execution_count": null,
      "outputs": [
        {
          "output_type": "execute_result",
          "data": {
            "text/plain": [
              "(51490, 29)"
            ]
          },
          "metadata": {},
          "execution_count": 27
        }
      ]
    },
    {
      "cell_type": "code",
      "metadata": {
        "id": "-TOsppFbGDaz",
        "colab": {
          "base_uri": "https://localhost:8080/"
        },
        "outputId": "de2a4422-64d2-4c20-ad0d-65c484e59c10"
      },
      "source": [
        "delete_feat_in = []\n",
        "for i in range(0,29):\n",
        "    if(float(Feat_imp[i])<=0.013):\n",
        "      delete_feat_in.append(i)\n",
        "print(delete_feat_in)      "
      ],
      "execution_count": null,
      "outputs": [
        {
          "output_type": "stream",
          "name": "stdout",
          "text": [
            "[0, 3, 5, 17, 18, 21, 22, 23, 25, 26, 27, 28]\n"
          ]
        }
      ]
    },
    {
      "cell_type": "markdown",
      "metadata": {
        "id": "B6wDMMMKqZZx"
      },
      "source": [
        "Gathering all the less important features so that they can be deleted.\n",
        "Here the feature importance limit is taken as 0,013."
      ]
    },
    {
      "cell_type": "code",
      "metadata": {
        "id": "_d2gdNrONf8a"
      },
      "source": [
        "X_Train =  np.delete(X_Train,delete_feat_in,axis=1)\n",
        "X_Test =  np.delete(X_Test,delete_feat_in,axis=1)"
      ],
      "execution_count": null,
      "outputs": []
    },
    {
      "cell_type": "markdown",
      "metadata": {
        "id": "JrqdgQxmq6IJ"
      },
      "source": [
        "Deleting those features."
      ]
    },
    {
      "cell_type": "code",
      "metadata": {
        "id": "zGrKplsOslvD"
      },
      "source": [
        "GBD = xgboost.XGBClassifier(learning_rate=0.05,min_samples_split=300,min_samples_leaf=50,max_depth=10,max_features='sqrt',subsample=0.8,random_state=10,n_estimators=300)\n",
        "GBD = GBD.fit(X_Train,y_Train)"
      ],
      "execution_count": null,
      "outputs": []
    },
    {
      "cell_type": "markdown",
      "metadata": {
        "id": "pfTtIvxLs8Mx"
      },
      "source": [
        "Using xgboost classifier for training our model with above selected hyperparameters."
      ]
    },
    {
      "cell_type": "code",
      "metadata": {
        "colab": {
          "base_uri": "https://localhost:8080/"
        },
        "id": "dANcqbeZzn-G",
        "outputId": "82ed9d7f-4c3a-4777-8357-6a4f4c7a2e1b"
      },
      "source": [
        "print(\"Accuracy over training set = \", GBD.score(X_Train,y_Train))"
      ],
      "execution_count": null,
      "outputs": [
        {
          "output_type": "stream",
          "name": "stdout",
          "text": [
            "Accuracy over training set =  0.9307438337541271\n"
          ]
        }
      ]
    },
    {
      "cell_type": "markdown",
      "metadata": {
        "id": "03H4oIrzz6cc"
      },
      "source": [
        "Accuracy obtained over training set is 0.9307"
      ]
    },
    {
      "cell_type": "code",
      "metadata": {
        "id": "4J8QHj_38gOQ"
      },
      "source": [
        "y_Predicted_T = GBD.predict(X_Test)"
      ],
      "execution_count": null,
      "outputs": []
    },
    {
      "cell_type": "markdown",
      "metadata": {
        "id": "SW6t9rk8tJA1"
      },
      "source": [
        "Predicting the outcome of the given test set."
      ]
    },
    {
      "cell_type": "code",
      "metadata": {
        "id": "HigJSSF98qP-"
      },
      "source": [
        "# Creating a new dataframe Predicted_prices_df which have the test Id , predicted_price\n",
        "Predictions_df = pd.DataFrame()\n",
        "Predictions_df['Id'] = Id\n",
        "\n",
        "# Using this frame to get the predicitions of the new dataframe Predicted_prices_df\n",
        "#predictions = GBD2.predict(df_test)\n",
        "Predictions_df['Fault'] = pd.DataFrame(y_Predicted_T)\n",
        "\n",
        "# Getting a csv file from the dataframe Predicted_prices_df\n",
        "Predictions_df.to_csv('Predicted-data.csv', index = False)"
      ],
      "execution_count": null,
      "outputs": []
    },
    {
      "cell_type": "markdown",
      "metadata": {
        "id": "i8rJQYxVtRxW"
      },
      "source": [
        "Creating a .csv file for submitting all the predictions."
      ]
    },
    {
      "cell_type": "markdown",
      "metadata": {
        "id": "x_gwZeLH1W5Y"
      },
      "source": [
        "Gradient boosting is the model choosen which performs better than desicion trees.\n",
        "It provides several hyperparameters so the model can be fitted flexibly with higher accuracy compared to other models"
      ]
    }
  ]
}